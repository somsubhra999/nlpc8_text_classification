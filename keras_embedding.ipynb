{
  "nbformat": 4,
  "nbformat_minor": 0,
  "metadata": {
    "colab": {
      "name": "keras_embedding.ipynb",
      "provenance": [],
      "collapsed_sections": [],
      "authorship_tag": "ABX9TyNm09lMXAMsRauoGIYhb6l2",
      "include_colab_link": true
    },
    "kernelspec": {
      "name": "python3",
      "display_name": "Python 3"
    }
  },
  "cells": [
    {
      "cell_type": "markdown",
      "metadata": {
        "id": "view-in-github",
        "colab_type": "text"
      },
      "source": [
        "<a href=\"https://colab.research.google.com/github/somsubhra999/nlpc8_text_classification/blob/master/keras_embedding.ipynb\" target=\"_parent\"><img src=\"https://colab.research.google.com/assets/colab-badge.svg\" alt=\"Open In Colab\"/></a>"
      ]
    },
    {
      "cell_type": "code",
      "metadata": {
        "id": "rQWhBnQVR5DX",
        "colab_type": "code",
        "colab": {}
      },
      "source": [
        "from keras import models, layers, backend\n",
        "from keras.utils.np_utils import to_categorical\n",
        "from keras.datasets import reuters\n",
        "from keras.preprocessing.sequence import pad_sequences\n",
        "from keras.preprocessing.text import Tokenizer\n",
        "from pprint import pprint\n",
        "import matplotlib.pyplot as plt"
      ],
      "execution_count": 742,
      "outputs": []
    },
    {
      "cell_type": "markdown",
      "metadata": {
        "id": "HIHeey9VzOW_",
        "colab_type": "text"
      },
      "source": [
        "Creating word index and reverse word index for the Reuters dataset and printing first 10 samples of each"
      ]
    },
    {
      "cell_type": "code",
      "metadata": {
        "id": "0Xhtrg3SeK2N",
        "colab_type": "code",
        "colab": {
          "base_uri": "https://localhost:8080/",
          "height": 357
        },
        "outputId": "53cebc4f-9baf-4bff-83c6-b17712f87a2c"
      },
      "source": [
        "word_index = reuters.get_word_index()\n",
        "reverse_word_index = dict(map(reversed, word_index.items()))\n",
        "\n",
        "pprint(dict(list(word_index.items())[0: 10]))\n",
        "pprint(dict(list(reverse_word_index.items())[0: 10]))"
      ],
      "execution_count": 743,
      "outputs": [
        {
          "output_type": "stream",
          "text": [
            "{'chanthaburi': 20675,\n",
            " 'degussa': 12089,\n",
            " 'fawc': 16260,\n",
            " 'hanging': 13796,\n",
            " 'hermann': 8804,\n",
            " 'localized': 20672,\n",
            " 'mdbl': 10996,\n",
            " 'refunding': 10997,\n",
            " 'sation': 20673,\n",
            " 'woods': 8803}\n",
            "{8803: 'woods',\n",
            " 8804: 'hermann',\n",
            " 10996: 'mdbl',\n",
            " 10997: 'refunding',\n",
            " 12089: 'degussa',\n",
            " 13796: 'hanging',\n",
            " 16260: 'fawc',\n",
            " 20672: 'localized',\n",
            " 20673: 'sation',\n",
            " 20675: 'chanthaburi'}\n"
          ],
          "name": "stdout"
        }
      ]
    },
    {
      "cell_type": "markdown",
      "metadata": {
        "id": "W58gVPaKzfeQ",
        "colab_type": "text"
      },
      "source": [
        "Loading data and associated labels. The entire dataset is split with a 0.2 ratio which means 80% of the data will be used for training and 20% for testing.\n",
        "\n",
        "Words are ranked by how often they occur (in the training set) and only the `num_words` most frequent words are kept. For our training we are keeping only the top 3000 frequent words."
      ]
    },
    {
      "cell_type": "code",
      "metadata": {
        "id": "MteoIZvRmLL4",
        "colab_type": "code",
        "colab": {}
      },
      "source": [
        "max_length = 3000\n",
        "(x_train, y_train), (x_test, y_test) = reuters.load_data(test_split=0.1, num_words=max_length)"
      ],
      "execution_count": 755,
      "outputs": []
    },
    {
      "cell_type": "markdown",
      "metadata": {
        "id": "fbBPhjr-ID3h",
        "colab_type": "text"
      },
      "source": [
        "Tokenizing the sequences and converting the class vectors to binary class matrices (one-hot encoded)."
      ]
    },
    {
      "cell_type": "code",
      "metadata": {
        "id": "EaArg_XWLji4",
        "colab_type": "code",
        "colab": {
          "base_uri": "https://localhost:8080/",
          "height": 34
        },
        "outputId": "3bcadba3-973a-4d4c-bb1a-384eeb18c9d2"
      },
      "source": [
        "tokenizer = Tokenizer(num_words=max_length)\n",
        "x_train = tokenizer.sequences_to_matrix(x_train, mode='binary')\n",
        "x_test = tokenizer.sequences_to_matrix(x_test, mode='binary')\n",
        "\n",
        "y_train_cat = to_categorical(y_train)\n",
        "y_test_cat = to_categorical(y_test)\n",
        "\n",
        "categories = len(y_train_cat[0])\n",
        "\n",
        "print('Total categories = {}'.format(categories))"
      ],
      "execution_count": 756,
      "outputs": [
        {
          "output_type": "stream",
          "text": [
            "Total categories = 46\n"
          ],
          "name": "stdout"
        }
      ]
    },
    {
      "cell_type": "markdown",
      "metadata": {
        "id": "M49G7M_819U8",
        "colab_type": "text"
      },
      "source": [
        "Padding zeroes to the end of each sequence to ensure that each sequence has a uniform length."
      ]
    },
    {
      "cell_type": "code",
      "metadata": {
        "id": "4-eJhscezv96",
        "colab_type": "code",
        "colab": {}
      },
      "source": [
        "x_train = pad_sequences(x_train, maxlen=max_length, padding='post')\n",
        "x_test = pad_sequences(x_test, maxlen=max_length, padding='post')"
      ],
      "execution_count": 746,
      "outputs": []
    },
    {
      "cell_type": "markdown",
      "metadata": {
        "id": "7mj6u0C5F4Xf",
        "colab_type": "text"
      },
      "source": [
        "Creating and adding layers to the model."
      ]
    },
    {
      "cell_type": "code",
      "metadata": {
        "id": "ZaiMTv3EKzF9",
        "colab_type": "code",
        "colab": {
          "base_uri": "https://localhost:8080/",
          "height": 255
        },
        "outputId": "a6bd8093-baaf-4416-ac43-fa87b84ca693"
      },
      "source": [
        "backend.clear_session()\n",
        "\n",
        "model = models.Sequential()\n",
        "model.add(layers.Dense(180, activation='relu', input_shape=(max_length,)))\n",
        "model.add(layers.Dropout(0.4))\n",
        "model.add(layers.Dense(categories, activation='softmax'))\n",
        "\n",
        "model.compile(optimizer='rmsprop',\n",
        "              loss='categorical_crossentropy',\n",
        "              metrics=['accuracy'])\n",
        "model.summary()"
      ],
      "execution_count": 765,
      "outputs": [
        {
          "output_type": "stream",
          "text": [
            "Model: \"sequential_1\"\n",
            "_________________________________________________________________\n",
            "Layer (type)                 Output Shape              Param #   \n",
            "=================================================================\n",
            "dense_1 (Dense)              (None, 180)               540180    \n",
            "_________________________________________________________________\n",
            "dropout_1 (Dropout)          (None, 180)               0         \n",
            "_________________________________________________________________\n",
            "dense_2 (Dense)              (None, 46)                8326      \n",
            "=================================================================\n",
            "Total params: 548,506\n",
            "Trainable params: 548,506\n",
            "Non-trainable params: 0\n",
            "_________________________________________________________________\n"
          ],
          "name": "stdout"
        }
      ]
    },
    {
      "cell_type": "markdown",
      "metadata": {
        "id": "zVtAoZwTL2BY",
        "colab_type": "text"
      },
      "source": [
        "Training the model for 5 epochs."
      ]
    },
    {
      "cell_type": "code",
      "metadata": {
        "id": "_Or_HuYPL847",
        "colab_type": "code",
        "colab": {
          "base_uri": "https://localhost:8080/",
          "height": 204
        },
        "outputId": "a3380cb4-3cdb-41f1-ec8d-d8b33c532410"
      },
      "source": [
        "history = model.fit(x_train,\n",
        "                    y_train_cat,\n",
        "                    batch_size=110,\n",
        "                    epochs=5,\n",
        "                    validation_data=(x_test, y_test_cat))"
      ],
      "execution_count": 766,
      "outputs": [
        {
          "output_type": "stream",
          "text": [
            "Train on 10105 samples, validate on 1123 samples\n",
            "Epoch 1/5\n",
            "10105/10105 [==============================] - 1s 129us/step - loss: 1.5596 - accuracy: 0.6714 - val_loss: 1.1244 - val_accuracy: 0.7471\n",
            "Epoch 2/5\n",
            "10105/10105 [==============================] - 1s 115us/step - loss: 0.8808 - accuracy: 0.8050 - val_loss: 0.9203 - val_accuracy: 0.7898\n",
            "Epoch 3/5\n",
            "10105/10105 [==============================] - 1s 117us/step - loss: 0.6461 - accuracy: 0.8559 - val_loss: 0.8401 - val_accuracy: 0.8077\n",
            "Epoch 4/5\n",
            "10105/10105 [==============================] - 1s 115us/step - loss: 0.4969 - accuracy: 0.8901 - val_loss: 0.7991 - val_accuracy: 0.8130\n",
            "Epoch 5/5\n",
            "10105/10105 [==============================] - 1s 115us/step - loss: 0.3992 - accuracy: 0.9095 - val_loss: 0.8057 - val_accuracy: 0.8201\n"
          ],
          "name": "stdout"
        }
      ]
    },
    {
      "cell_type": "markdown",
      "metadata": {
        "id": "TzfeDiqMagXt",
        "colab_type": "text"
      },
      "source": [
        "Evaluating test data"
      ]
    },
    {
      "cell_type": "code",
      "metadata": {
        "id": "u0hlIy3cYqQf",
        "colab_type": "code",
        "colab": {
          "base_uri": "https://localhost:8080/",
          "height": 68
        },
        "outputId": "df6d8c83-e1fb-4b11-ce7f-ec1625885edd"
      },
      "source": [
        "results = model.evaluate(x_test, y_test_cat, batch_size=128)\n",
        "print(\"test loss = {}\\ntest accuracy = {}\".format(results[0], results[1]))"
      ],
      "execution_count": 767,
      "outputs": [
        {
          "output_type": "stream",
          "text": [
            "1123/1123 [==============================] - 0s 50us/step\n",
            "test loss = 0.8056809591164253\n",
            "test accuracy = 0.8201246857643127\n"
          ],
          "name": "stdout"
        }
      ]
    },
    {
      "cell_type": "markdown",
      "metadata": {
        "id": "_viUgRwAax4K",
        "colab_type": "text"
      },
      "source": [
        "Plotting model loss and accuracy charts"
      ]
    },
    {
      "cell_type": "code",
      "metadata": {
        "id": "KaQMWF5BaBGB",
        "colab_type": "code",
        "colab": {
          "base_uri": "https://localhost:8080/",
          "height": 573
        },
        "outputId": "bec3c8c6-cb13-4c65-e692-270739351b3e"
      },
      "source": [
        "plt.plot(history.history['loss'])\n",
        "plt.plot(history.history['val_loss'])\n",
        "plt.title('Model Loss')\n",
        "plt.ylabel('loss')\n",
        "plt.xlabel('epoch')\n",
        "plt.legend(['train', 'test'], loc='upper left')\n",
        "plt.show()\n",
        "\n",
        "plt.plot(history.history['accuracy'])\n",
        "plt.plot(history.history['val_accuracy'])\n",
        "plt.title('Model Accuracy')\n",
        "plt.ylabel('accuracy')\n",
        "plt.xlabel('epoch')\n",
        "plt.legend(['train', 'test'], loc='upper left')\n",
        "plt.show()"
      ],
      "execution_count": 768,
      "outputs": [
        {
          "output_type": "display_data",
          "data": {
            "image/png": "[encoded data removed]",
            "text/plain": [
              "<Figure size 432x288 with 1 Axes>"
            ]
          },
          "metadata": {
            "tags": [],
            "needs_background": "light"
          }
        },
        {
          "output_type": "display_data",
          "data": {
            "image/png": "[encoded data removed]",
            "text/plain": [
              "<Figure size 432x288 with 1 Axes>"
            ]
          },
          "metadata": {
            "tags": [],
            "needs_background": "light"
          }
        }
      ]
    }
  ]
}